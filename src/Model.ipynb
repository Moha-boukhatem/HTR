{
 "cells": [
  {
   "cell_type": "code",
   "execution_count": 15,
   "metadata": {},
   "outputs": [],
   "source": [
    "#train_img_paths,train_CleanedLabels,train_characters,train_max_len,test_img_paths,test_CleanedLabels,validation_img_paths,validation_CleanedLabels =[],[],[],[],[],[],[],[]"
   ]
  },
  {
   "cell_type": "code",
   "execution_count": 42,
   "metadata": {},
   "outputs": [
    {
     "name": "stdout",
     "output_type": "stream",
     "text": [
      "\n",
      "    to use extractData Func u need to passe file name as mentioned below\n",
      "    test_CleanedLabels = ExtractData('test_CleanedLabels')\n",
      "    \n"
     ]
    }
   ],
   "source": [
    "import DataExtractorFromFiles as f\n",
    "from importlib import reload\n",
    "reload(f)\n",
    "print(f.ExtractData.__doc__)"
   ]
  },
  {
   "cell_type": "code",
   "execution_count": null,
   "metadata": {},
   "outputs": [],
   "source": [
    "'''from DataExtractorFromFiles import ExtractData\n",
    "train_characters = ExtractData('train_characters')\n",
    "validation_CleanedLabels = ExtractData('validation_CleanedLabels')'''"
   ]
  },
  {
   "cell_type": "code",
   "execution_count": 32,
   "metadata": {},
   "outputs": [
    {
     "name": "stdout",
     "output_type": "stream",
     "text": [
      "tf.Tensor([ 0 37  0 ...  1  0  0], shape=(4823,), dtype=int64)\n"
     ]
    }
   ],
   "source": [
    "\n",
    "'''from tensorflow import keras\n",
    "from keras.layers import StringLookup\n",
    "\n",
    "char_to_num = StringLookup(vocabulary=train_characters)\n",
    "print(char_to_num(validation_CleanedLabels))'''\n"
   ]
  },
  {
   "cell_type": "markdown",
   "metadata": {},
   "source": []
  },
  {
   "cell_type": "code",
   "execution_count": null,
   "metadata": {},
   "outputs": [],
   "source": []
  }
 ],
 "metadata": {
  "interpreter": {
   "hash": "aee8b7b246df8f9039afb4144a1f6fd8d2ca17a180786b69acc140d282b71a49"
  },
  "kernelspec": {
   "display_name": "Python 3.9.9 64-bit",
   "language": "python",
   "name": "python3"
  },
  "language_info": {
   "codemirror_mode": {
    "name": "ipython",
    "version": 3
   },
   "file_extension": ".py",
   "mimetype": "text/x-python",
   "name": "python",
   "nbconvert_exporter": "python",
   "pygments_lexer": "ipython3",
   "version": "3.9.9"
  },
  "orig_nbformat": 4
 },
 "nbformat": 4,
 "nbformat_minor": 2
}
